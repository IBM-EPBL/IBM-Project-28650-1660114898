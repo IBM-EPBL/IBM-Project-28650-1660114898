{
 "cells": [
  {
   "cell_type": "code",
   "execution_count": 1,
   "id": "9b7ce330",
   "metadata": {},
   "outputs": [],
   "source": [
    "import pandas as pd\n",
    "import numpy as np\n",
    "import matplotlib.pyplot as plt\n",
    "import seaborn as sns\n",
    "from sklearn import datasets\n",
    "from sklearn.preprocessing import MinMaxScaler #use anything\n",
    "from sklearn.decomposition import PCA #use anything"
   ]
  },
  {
   "cell_type": "code",
   "execution_count": 2,
   "id": "0732134f",
   "metadata": {},
   "outputs": [],
   "source": [
    "df = pd.read_csv(\"C:\\\\Users\\\\prasa\\\\Documents\\\\NALAYA THIRAN\\\\git\\\\IBM-Project-26162-1660019693\\\\Data Collection\\Dataset.csv\")"
   ]
  },
  {
   "cell_type": "code",
   "execution_count": null,
   "id": "0fd1f060",
   "metadata": {},
   "outputs": [],
   "source": []
  }
 ],
 "metadata": {
  "kernelspec": {
   "display_name": "Python 3 (ipykernel)",
   "language": "python",
   "name": "python3"
  },
  "language_info": {
   "codemirror_mode": {
    "name": "ipython",
    "version": 3
   },
   "file_extension": ".py",
   "mimetype": "text/x-python",
   "name": "python",
   "nbconvert_exporter": "python",
   "pygments_lexer": "ipython3",
   "version": "3.9.12"
  }
 },
 "nbformat": 4,
 "nbformat_minor": 5
}
